{
 "cells": [
  {
   "cell_type": "code",
   "execution_count": 1,
   "id": "initial_id",
   "metadata": {
    "collapsed": true,
    "ExecuteTime": {
     "end_time": "2024-01-20T12:15:25.957948Z",
     "start_time": "2024-01-20T12:15:25.557466Z"
    }
   },
   "outputs": [],
   "source": [
    "import pandas as pd\n"
   ]
  },
  {
   "cell_type": "code",
   "outputs": [
    {
     "data": {
      "text/plain": "   VendorID lpep_pickup_datetime lpep_dropoff_datetime store_and_fwd_flag  \\\n0       2.0  2019-09-01 00:10:53   2019-09-01 00:23:46                  N   \n1       2.0  2019-09-01 00:31:22   2019-09-01 00:44:37                  N   \n2       2.0  2019-09-01 00:50:24   2019-09-01 01:03:20                  N   \n3       2.0  2019-09-01 00:27:06   2019-09-01 00:33:22                  N   \n4       2.0  2019-09-01 00:43:23   2019-09-01 00:59:54                  N   \n\n   RatecodeID  PULocationID  DOLocationID  passenger_count  trip_distance  \\\n0         1.0            65           189              5.0           2.00   \n1         1.0            97           225              5.0           3.20   \n2         1.0            37            61              5.0           2.99   \n3         1.0           145           112              1.0           1.73   \n4         1.0           112           198              1.0           3.42   \n\n   fare_amount  extra  mta_tax  tip_amount  tolls_amount  ehail_fee  \\\n0         10.5    0.5      0.5        2.36           0.0        NaN   \n1         12.0    0.5      0.5        0.00           0.0        NaN   \n2         12.0    0.5      0.5        0.00           0.0        NaN   \n3          7.5    0.5      0.5        1.50           0.0        NaN   \n4         14.0    0.5      0.5        3.06           0.0        NaN   \n\n   improvement_surcharge  total_amount  payment_type  trip_type  \\\n0                    0.3         14.16           1.0        1.0   \n1                    0.3         13.30           2.0        1.0   \n2                    0.3         13.30           2.0        1.0   \n3                    0.3         10.30           1.0        1.0   \n4                    0.3         18.36           1.0        1.0   \n\n   congestion_surcharge  \n0                   0.0  \n1                   0.0  \n2                   0.0  \n3                   0.0  \n4                   0.0  ",
      "text/html": "<div>\n<style scoped>\n    .dataframe tbody tr th:only-of-type {\n        vertical-align: middle;\n    }\n\n    .dataframe tbody tr th {\n        vertical-align: top;\n    }\n\n    .dataframe thead th {\n        text-align: right;\n    }\n</style>\n<table border=\"1\" class=\"dataframe\">\n  <thead>\n    <tr style=\"text-align: right;\">\n      <th></th>\n      <th>VendorID</th>\n      <th>lpep_pickup_datetime</th>\n      <th>lpep_dropoff_datetime</th>\n      <th>store_and_fwd_flag</th>\n      <th>RatecodeID</th>\n      <th>PULocationID</th>\n      <th>DOLocationID</th>\n      <th>passenger_count</th>\n      <th>trip_distance</th>\n      <th>fare_amount</th>\n      <th>extra</th>\n      <th>mta_tax</th>\n      <th>tip_amount</th>\n      <th>tolls_amount</th>\n      <th>ehail_fee</th>\n      <th>improvement_surcharge</th>\n      <th>total_amount</th>\n      <th>payment_type</th>\n      <th>trip_type</th>\n      <th>congestion_surcharge</th>\n    </tr>\n  </thead>\n  <tbody>\n    <tr>\n      <th>0</th>\n      <td>2.0</td>\n      <td>2019-09-01 00:10:53</td>\n      <td>2019-09-01 00:23:46</td>\n      <td>N</td>\n      <td>1.0</td>\n      <td>65</td>\n      <td>189</td>\n      <td>5.0</td>\n      <td>2.00</td>\n      <td>10.5</td>\n      <td>0.5</td>\n      <td>0.5</td>\n      <td>2.36</td>\n      <td>0.0</td>\n      <td>NaN</td>\n      <td>0.3</td>\n      <td>14.16</td>\n      <td>1.0</td>\n      <td>1.0</td>\n      <td>0.0</td>\n    </tr>\n    <tr>\n      <th>1</th>\n      <td>2.0</td>\n      <td>2019-09-01 00:31:22</td>\n      <td>2019-09-01 00:44:37</td>\n      <td>N</td>\n      <td>1.0</td>\n      <td>97</td>\n      <td>225</td>\n      <td>5.0</td>\n      <td>3.20</td>\n      <td>12.0</td>\n      <td>0.5</td>\n      <td>0.5</td>\n      <td>0.00</td>\n      <td>0.0</td>\n      <td>NaN</td>\n      <td>0.3</td>\n      <td>13.30</td>\n      <td>2.0</td>\n      <td>1.0</td>\n      <td>0.0</td>\n    </tr>\n    <tr>\n      <th>2</th>\n      <td>2.0</td>\n      <td>2019-09-01 00:50:24</td>\n      <td>2019-09-01 01:03:20</td>\n      <td>N</td>\n      <td>1.0</td>\n      <td>37</td>\n      <td>61</td>\n      <td>5.0</td>\n      <td>2.99</td>\n      <td>12.0</td>\n      <td>0.5</td>\n      <td>0.5</td>\n      <td>0.00</td>\n      <td>0.0</td>\n      <td>NaN</td>\n      <td>0.3</td>\n      <td>13.30</td>\n      <td>2.0</td>\n      <td>1.0</td>\n      <td>0.0</td>\n    </tr>\n    <tr>\n      <th>3</th>\n      <td>2.0</td>\n      <td>2019-09-01 00:27:06</td>\n      <td>2019-09-01 00:33:22</td>\n      <td>N</td>\n      <td>1.0</td>\n      <td>145</td>\n      <td>112</td>\n      <td>1.0</td>\n      <td>1.73</td>\n      <td>7.5</td>\n      <td>0.5</td>\n      <td>0.5</td>\n      <td>1.50</td>\n      <td>0.0</td>\n      <td>NaN</td>\n      <td>0.3</td>\n      <td>10.30</td>\n      <td>1.0</td>\n      <td>1.0</td>\n      <td>0.0</td>\n    </tr>\n    <tr>\n      <th>4</th>\n      <td>2.0</td>\n      <td>2019-09-01 00:43:23</td>\n      <td>2019-09-01 00:59:54</td>\n      <td>N</td>\n      <td>1.0</td>\n      <td>112</td>\n      <td>198</td>\n      <td>1.0</td>\n      <td>3.42</td>\n      <td>14.0</td>\n      <td>0.5</td>\n      <td>0.5</td>\n      <td>3.06</td>\n      <td>0.0</td>\n      <td>NaN</td>\n      <td>0.3</td>\n      <td>18.36</td>\n      <td>1.0</td>\n      <td>1.0</td>\n      <td>0.0</td>\n    </tr>\n  </tbody>\n</table>\n</div>"
     },
     "execution_count": 4,
     "metadata": {},
     "output_type": "execute_result"
    }
   ],
   "source": [
    "df = pd.read_csv('output.csv', compression='gzip', low_memory=False)\n",
    "\n",
    "df.head()\n"
   ],
   "metadata": {
    "collapsed": false,
    "ExecuteTime": {
     "end_time": "2024-01-20T12:16:59.786786Z",
     "start_time": "2024-01-20T12:16:58.959027Z"
    }
   },
   "id": "4d4f72d74a02e49f",
   "execution_count": 4
  },
  {
   "cell_type": "code",
   "outputs": [],
   "source": [],
   "metadata": {
    "collapsed": false
   },
   "id": "2bbc76a8f9d3c0c"
  }
 ],
 "metadata": {
  "kernelspec": {
   "display_name": "Python 3",
   "language": "python",
   "name": "python3"
  },
  "language_info": {
   "codemirror_mode": {
    "name": "ipython",
    "version": 2
   },
   "file_extension": ".py",
   "mimetype": "text/x-python",
   "name": "python",
   "nbconvert_exporter": "python",
   "pygments_lexer": "ipython2",
   "version": "2.7.6"
  }
 },
 "nbformat": 4,
 "nbformat_minor": 5
}
